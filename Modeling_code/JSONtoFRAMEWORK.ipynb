{
  "nbformat": 4,
  "nbformat_minor": 0,
  "metadata": {
    "colab": {
      "provenance": []
    },
    "kernelspec": {
      "name": "python3",
      "display_name": "Python 3"
    },
    "language_info": {
      "name": "python"
    },
    "widgets": {
      "application/vnd.jupyter.widget-state+json": {
        "720346bf05fd4f45891f4398a4e2bfef": {
          "model_module": "@jupyter-widgets/controls",
          "model_name": "HBoxModel",
          "model_module_version": "1.5.0",
          "state": {
            "_dom_classes": [],
            "_model_module": "@jupyter-widgets/controls",
            "_model_module_version": "1.5.0",
            "_model_name": "HBoxModel",
            "_view_count": null,
            "_view_module": "@jupyter-widgets/controls",
            "_view_module_version": "1.5.0",
            "_view_name": "HBoxView",
            "box_style": "",
            "children": [
              "IPY_MODEL_155f0c4355da4a0d945403f560e783ff",
              "IPY_MODEL_057b057c0595492086d35bbf722e6f2c",
              "IPY_MODEL_3ba33970ae144aa8a08912f886b39cee"
            ],
            "layout": "IPY_MODEL_cee506f2037e48739cc37673c47d62c4"
          }
        },
        "155f0c4355da4a0d945403f560e783ff": {
          "model_module": "@jupyter-widgets/controls",
          "model_name": "HTMLModel",
          "model_module_version": "1.5.0",
          "state": {
            "_dom_classes": [],
            "_model_module": "@jupyter-widgets/controls",
            "_model_module_version": "1.5.0",
            "_model_name": "HTMLModel",
            "_view_count": null,
            "_view_module": "@jupyter-widgets/controls",
            "_view_module_version": "1.5.0",
            "_view_name": "HTMLView",
            "description": "",
            "description_tooltip": null,
            "layout": "IPY_MODEL_1dd594a7b5b64e09872f3d3710b18b9d",
            "placeholder": "​",
            "style": "IPY_MODEL_512f9c9cabfe4b35aa1bee077443dbef",
            "value": "100%"
          }
        },
        "057b057c0595492086d35bbf722e6f2c": {
          "model_module": "@jupyter-widgets/controls",
          "model_name": "FloatProgressModel",
          "model_module_version": "1.5.0",
          "state": {
            "_dom_classes": [],
            "_model_module": "@jupyter-widgets/controls",
            "_model_module_version": "1.5.0",
            "_model_name": "FloatProgressModel",
            "_view_count": null,
            "_view_module": "@jupyter-widgets/controls",
            "_view_module_version": "1.5.0",
            "_view_name": "ProgressView",
            "bar_style": "success",
            "description": "",
            "description_tooltip": null,
            "layout": "IPY_MODEL_a6fa82c30d7840f69f6c399013197e6e",
            "max": 12304,
            "min": 0,
            "orientation": "horizontal",
            "style": "IPY_MODEL_1123565709c64945a3a3ee057cadc548",
            "value": 12304
          }
        },
        "3ba33970ae144aa8a08912f886b39cee": {
          "model_module": "@jupyter-widgets/controls",
          "model_name": "HTMLModel",
          "model_module_version": "1.5.0",
          "state": {
            "_dom_classes": [],
            "_model_module": "@jupyter-widgets/controls",
            "_model_module_version": "1.5.0",
            "_model_name": "HTMLModel",
            "_view_count": null,
            "_view_module": "@jupyter-widgets/controls",
            "_view_module_version": "1.5.0",
            "_view_name": "HTMLView",
            "description": "",
            "description_tooltip": null,
            "layout": "IPY_MODEL_242d76fcd0ad480a9b9cf0a6be38ddd0",
            "placeholder": "​",
            "style": "IPY_MODEL_9c6d000f3b44495db37e0128adacd795",
            "value": " 12304/12304 [04:35&lt;00:00, 46.15it/s]"
          }
        },
        "cee506f2037e48739cc37673c47d62c4": {
          "model_module": "@jupyter-widgets/base",
          "model_name": "LayoutModel",
          "model_module_version": "1.2.0",
          "state": {
            "_model_module": "@jupyter-widgets/base",
            "_model_module_version": "1.2.0",
            "_model_name": "LayoutModel",
            "_view_count": null,
            "_view_module": "@jupyter-widgets/base",
            "_view_module_version": "1.2.0",
            "_view_name": "LayoutView",
            "align_content": null,
            "align_items": null,
            "align_self": null,
            "border": null,
            "bottom": null,
            "display": null,
            "flex": null,
            "flex_flow": null,
            "grid_area": null,
            "grid_auto_columns": null,
            "grid_auto_flow": null,
            "grid_auto_rows": null,
            "grid_column": null,
            "grid_gap": null,
            "grid_row": null,
            "grid_template_areas": null,
            "grid_template_columns": null,
            "grid_template_rows": null,
            "height": null,
            "justify_content": null,
            "justify_items": null,
            "left": null,
            "margin": null,
            "max_height": null,
            "max_width": null,
            "min_height": null,
            "min_width": null,
            "object_fit": null,
            "object_position": null,
            "order": null,
            "overflow": null,
            "overflow_x": null,
            "overflow_y": null,
            "padding": null,
            "right": null,
            "top": null,
            "visibility": null,
            "width": null
          }
        },
        "1dd594a7b5b64e09872f3d3710b18b9d": {
          "model_module": "@jupyter-widgets/base",
          "model_name": "LayoutModel",
          "model_module_version": "1.2.0",
          "state": {
            "_model_module": "@jupyter-widgets/base",
            "_model_module_version": "1.2.0",
            "_model_name": "LayoutModel",
            "_view_count": null,
            "_view_module": "@jupyter-widgets/base",
            "_view_module_version": "1.2.0",
            "_view_name": "LayoutView",
            "align_content": null,
            "align_items": null,
            "align_self": null,
            "border": null,
            "bottom": null,
            "display": null,
            "flex": null,
            "flex_flow": null,
            "grid_area": null,
            "grid_auto_columns": null,
            "grid_auto_flow": null,
            "grid_auto_rows": null,
            "grid_column": null,
            "grid_gap": null,
            "grid_row": null,
            "grid_template_areas": null,
            "grid_template_columns": null,
            "grid_template_rows": null,
            "height": null,
            "justify_content": null,
            "justify_items": null,
            "left": null,
            "margin": null,
            "max_height": null,
            "max_width": null,
            "min_height": null,
            "min_width": null,
            "object_fit": null,
            "object_position": null,
            "order": null,
            "overflow": null,
            "overflow_x": null,
            "overflow_y": null,
            "padding": null,
            "right": null,
            "top": null,
            "visibility": null,
            "width": null
          }
        },
        "512f9c9cabfe4b35aa1bee077443dbef": {
          "model_module": "@jupyter-widgets/controls",
          "model_name": "DescriptionStyleModel",
          "model_module_version": "1.5.0",
          "state": {
            "_model_module": "@jupyter-widgets/controls",
            "_model_module_version": "1.5.0",
            "_model_name": "DescriptionStyleModel",
            "_view_count": null,
            "_view_module": "@jupyter-widgets/base",
            "_view_module_version": "1.2.0",
            "_view_name": "StyleView",
            "description_width": ""
          }
        },
        "a6fa82c30d7840f69f6c399013197e6e": {
          "model_module": "@jupyter-widgets/base",
          "model_name": "LayoutModel",
          "model_module_version": "1.2.0",
          "state": {
            "_model_module": "@jupyter-widgets/base",
            "_model_module_version": "1.2.0",
            "_model_name": "LayoutModel",
            "_view_count": null,
            "_view_module": "@jupyter-widgets/base",
            "_view_module_version": "1.2.0",
            "_view_name": "LayoutView",
            "align_content": null,
            "align_items": null,
            "align_self": null,
            "border": null,
            "bottom": null,
            "display": null,
            "flex": null,
            "flex_flow": null,
            "grid_area": null,
            "grid_auto_columns": null,
            "grid_auto_flow": null,
            "grid_auto_rows": null,
            "grid_column": null,
            "grid_gap": null,
            "grid_row": null,
            "grid_template_areas": null,
            "grid_template_columns": null,
            "grid_template_rows": null,
            "height": null,
            "justify_content": null,
            "justify_items": null,
            "left": null,
            "margin": null,
            "max_height": null,
            "max_width": null,
            "min_height": null,
            "min_width": null,
            "object_fit": null,
            "object_position": null,
            "order": null,
            "overflow": null,
            "overflow_x": null,
            "overflow_y": null,
            "padding": null,
            "right": null,
            "top": null,
            "visibility": null,
            "width": null
          }
        },
        "1123565709c64945a3a3ee057cadc548": {
          "model_module": "@jupyter-widgets/controls",
          "model_name": "ProgressStyleModel",
          "model_module_version": "1.5.0",
          "state": {
            "_model_module": "@jupyter-widgets/controls",
            "_model_module_version": "1.5.0",
            "_model_name": "ProgressStyleModel",
            "_view_count": null,
            "_view_module": "@jupyter-widgets/base",
            "_view_module_version": "1.2.0",
            "_view_name": "StyleView",
            "bar_color": null,
            "description_width": ""
          }
        },
        "242d76fcd0ad480a9b9cf0a6be38ddd0": {
          "model_module": "@jupyter-widgets/base",
          "model_name": "LayoutModel",
          "model_module_version": "1.2.0",
          "state": {
            "_model_module": "@jupyter-widgets/base",
            "_model_module_version": "1.2.0",
            "_model_name": "LayoutModel",
            "_view_count": null,
            "_view_module": "@jupyter-widgets/base",
            "_view_module_version": "1.2.0",
            "_view_name": "LayoutView",
            "align_content": null,
            "align_items": null,
            "align_self": null,
            "border": null,
            "bottom": null,
            "display": null,
            "flex": null,
            "flex_flow": null,
            "grid_area": null,
            "grid_auto_columns": null,
            "grid_auto_flow": null,
            "grid_auto_rows": null,
            "grid_column": null,
            "grid_gap": null,
            "grid_row": null,
            "grid_template_areas": null,
            "grid_template_columns": null,
            "grid_template_rows": null,
            "height": null,
            "justify_content": null,
            "justify_items": null,
            "left": null,
            "margin": null,
            "max_height": null,
            "max_width": null,
            "min_height": null,
            "min_width": null,
            "object_fit": null,
            "object_position": null,
            "order": null,
            "overflow": null,
            "overflow_x": null,
            "overflow_y": null,
            "padding": null,
            "right": null,
            "top": null,
            "visibility": null,
            "width": null
          }
        },
        "9c6d000f3b44495db37e0128adacd795": {
          "model_module": "@jupyter-widgets/controls",
          "model_name": "DescriptionStyleModel",
          "model_module_version": "1.5.0",
          "state": {
            "_model_module": "@jupyter-widgets/controls",
            "_model_module_version": "1.5.0",
            "_model_name": "DescriptionStyleModel",
            "_view_count": null,
            "_view_module": "@jupyter-widgets/base",
            "_view_module_version": "1.2.0",
            "_view_name": "StyleView",
            "description_width": ""
          }
        }
      }
    }
  },
  "cells": [
    {
      "cell_type": "markdown",
      "source": [
        "# Importing library"
      ],
      "metadata": {
        "id": "7dNPgm8oOO-M"
      }
    },
    {
      "cell_type": "code",
      "execution_count": 1,
      "metadata": {
        "colab": {
          "base_uri": "https://localhost:8080/"
        },
        "id": "r5pYZ5C0BPF7",
        "outputId": "ccb474f7-b538-4efa-aaba-6dda23d2b995"
      },
      "outputs": [
        {
          "output_type": "stream",
          "name": "stdout",
          "text": [
            "Looking in indexes: https://pypi.org/simple, https://us-python.pkg.dev/colab-wheels/public/simple/\n",
            "Collecting albumentations==0.4.6\n",
            "  Downloading albumentations-0.4.6.tar.gz (117 kB)\n",
            "\u001b[K     |████████████████████████████████| 117 kB 5.2 MB/s \n",
            "\u001b[?25hRequirement already satisfied: numpy>=1.11.1 in /usr/local/lib/python3.7/dist-packages (from albumentations==0.4.6) (1.21.6)\n",
            "Requirement already satisfied: scipy in /usr/local/lib/python3.7/dist-packages (from albumentations==0.4.6) (1.7.3)\n",
            "Requirement already satisfied: imgaug>=0.4.0 in /usr/local/lib/python3.7/dist-packages (from albumentations==0.4.6) (0.4.0)\n",
            "Requirement already satisfied: PyYAML in /usr/local/lib/python3.7/dist-packages (from albumentations==0.4.6) (6.0)\n",
            "Requirement already satisfied: opencv-python>=4.1.1 in /usr/local/lib/python3.7/dist-packages (from albumentations==0.4.6) (4.6.0.66)\n",
            "Requirement already satisfied: matplotlib in /usr/local/lib/python3.7/dist-packages (from imgaug>=0.4.0->albumentations==0.4.6) (3.2.2)\n",
            "Requirement already satisfied: Pillow in /usr/local/lib/python3.7/dist-packages (from imgaug>=0.4.0->albumentations==0.4.6) (7.1.2)\n",
            "Requirement already satisfied: scikit-image>=0.14.2 in /usr/local/lib/python3.7/dist-packages (from imgaug>=0.4.0->albumentations==0.4.6) (0.18.3)\n",
            "Requirement already satisfied: six in /usr/local/lib/python3.7/dist-packages (from imgaug>=0.4.0->albumentations==0.4.6) (1.15.0)\n",
            "Requirement already satisfied: imageio in /usr/local/lib/python3.7/dist-packages (from imgaug>=0.4.0->albumentations==0.4.6) (2.9.0)\n",
            "Requirement already satisfied: Shapely in /usr/local/lib/python3.7/dist-packages (from imgaug>=0.4.0->albumentations==0.4.6) (1.8.5.post1)\n",
            "Requirement already satisfied: networkx>=2.0 in /usr/local/lib/python3.7/dist-packages (from scikit-image>=0.14.2->imgaug>=0.4.0->albumentations==0.4.6) (2.6.3)\n",
            "Requirement already satisfied: PyWavelets>=1.1.1 in /usr/local/lib/python3.7/dist-packages (from scikit-image>=0.14.2->imgaug>=0.4.0->albumentations==0.4.6) (1.3.0)\n",
            "Requirement already satisfied: tifffile>=2019.7.26 in /usr/local/lib/python3.7/dist-packages (from scikit-image>=0.14.2->imgaug>=0.4.0->albumentations==0.4.6) (2021.11.2)\n",
            "Requirement already satisfied: pyparsing!=2.0.4,!=2.1.2,!=2.1.6,>=2.0.1 in /usr/local/lib/python3.7/dist-packages (from matplotlib->imgaug>=0.4.0->albumentations==0.4.6) (3.0.9)\n",
            "Requirement already satisfied: kiwisolver>=1.0.1 in /usr/local/lib/python3.7/dist-packages (from matplotlib->imgaug>=0.4.0->albumentations==0.4.6) (1.4.4)\n",
            "Requirement already satisfied: cycler>=0.10 in /usr/local/lib/python3.7/dist-packages (from matplotlib->imgaug>=0.4.0->albumentations==0.4.6) (0.11.0)\n",
            "Requirement already satisfied: python-dateutil>=2.1 in /usr/local/lib/python3.7/dist-packages (from matplotlib->imgaug>=0.4.0->albumentations==0.4.6) (2.8.2)\n",
            "Requirement already satisfied: typing-extensions in /usr/local/lib/python3.7/dist-packages (from kiwisolver>=1.0.1->matplotlib->imgaug>=0.4.0->albumentations==0.4.6) (4.1.1)\n",
            "Building wheels for collected packages: albumentations\n",
            "  Building wheel for albumentations (setup.py) ... \u001b[?25l\u001b[?25hdone\n",
            "  Created wheel for albumentations: filename=albumentations-0.4.6-py3-none-any.whl size=65174 sha256=d91e25cd528adf68b2b00c08925e29800542e2a5ff934130b0ac5037de260a4c\n",
            "  Stored in directory: /root/.cache/pip/wheels/cf/34/0f/cb2a5f93561a181a4bcc84847ad6aaceea8b5a3127469616cc\n",
            "Successfully built albumentations\n",
            "Installing collected packages: albumentations\n",
            "  Attempting uninstall: albumentations\n",
            "    Found existing installation: albumentations 1.2.1\n",
            "    Uninstalling albumentations-1.2.1:\n",
            "      Successfully uninstalled albumentations-1.2.1\n",
            "Successfully installed albumentations-0.4.6\n"
          ]
        }
      ],
      "source": [
        "import numpy as np, pandas as pd\n",
        "from glob import glob\n",
        "import shutil, os\n",
        "import matplotlib.pyplot as plt\n",
        "from sklearn.model_selection import GroupKFold\n",
        "from tqdm.notebook import tqdm\n",
        "import seaborn as sns\n",
        "import cv2\n",
        "import imgaug.augmenters as iaa\n",
        "from google.colab.patches import cv2_imshow\n",
        "import pandas as pd\n",
        "\n",
        "import pandas as pd\n",
        "import numpy as np\n",
        "import cv2\n",
        "import os\n",
        "import re\n",
        "import time\n",
        "\n",
        "from sklearn.model_selection import GroupKFold\n",
        "\n",
        "\n",
        "!pip install albumentations==0.4.6\n",
        "import albumentations \n",
        "from albumentations.pytorch import ToTensorV2\n",
        "\n",
        "import albumentations as A\n",
        "from albumentations.pytorch.transforms import ToTensorV2\n",
        "\n",
        "import torch\n",
        "import torchvision\n",
        "\n",
        "from torchvision.models.detection.faster_rcnn import FastRCNNPredictor\n",
        "from torchvision.models.detection import FasterRCNN\n",
        "\n",
        "from torch.utils.data import DataLoader, Dataset"
      ]
    },
    {
      "cell_type": "markdown",
      "metadata": {
        "id": "tp4P2RlR_xpQ"
      },
      "source": [
        "#data download"
      ]
    },
    {
      "cell_type": "code",
      "execution_count": 2,
      "metadata": {
        "id": "q22Ors-K53xr"
      },
      "outputs": [],
      "source": [
        "!cp /content/drive/MyDrive/KDT/offline/project/augmentation_dataset/cocoset_b.zip ."
      ]
    },
    {
      "cell_type": "code",
      "execution_count": 3,
      "metadata": {
        "id": "XhMls4QZ6ns1"
      },
      "outputs": [],
      "source": [
        "!unzip -qq cocoset_b.zip"
      ]
    },
    {
      "cell_type": "code",
      "source": [
        "!rm ./cocoset_b.zip"
      ],
      "metadata": {
        "id": "zurnIxuSYUfS"
      },
      "execution_count": 4,
      "outputs": []
    },
    {
      "cell_type": "markdown",
      "metadata": {
        "id": "TzdrZwxBI3P1"
      },
      "source": [
        "#validation file & training file 합치기"
      ]
    },
    {
      "cell_type": "markdown",
      "source": [
        "수현님이 준 COCO dataset 형식을 Pascal VOC형식으로 만들어 줘야함.\n",
        "\n",
        "내가 쓰는 코드안에 group k fold로 train과 valid set을 나눠주기때문에 미리 나눠질 필요가 없다. 그러므로 나눠져있는 validation file과 training file을 합치는 작업 필요."
      ],
      "metadata": {
        "id": "gdxm-JbyPAkc"
      }
    },
    {
      "cell_type": "markdown",
      "metadata": {
        "id": "HvUVpZxQExRz"
      },
      "source": [
        "### IMAGE 처리\n",
        "1) train 폴더내 데이터 이름과 val 폴더내 데이터 이름이 겹치기때문에 val 폴더에 있는 데이터 이름 바꿔주기"
      ]
    },
    {
      "cell_type": "code",
      "execution_count": 5,
      "metadata": {
        "id": "x3240-KEI7Pt"
      },
      "outputs": [],
      "source": [
        "templist = os.listdir('/content/content/YOLO2COCO/dataset/YOLOV5_COCO_format/val2017/')\n",
        "newlist = []\n",
        "for i in templist:\n",
        "  id = i.split('.')[0]\n",
        "  newlist.append(id+'_val.jpg')"
      ]
    },
    {
      "cell_type": "code",
      "execution_count": 6,
      "metadata": {
        "id": "31ryWaX6L9kX"
      },
      "outputs": [],
      "source": [
        "for i in templist:\n",
        "  os.rename('/content/content/YOLO2COCO/dataset/YOLOV5_COCO_format/val2017/'+i, '/content/content/YOLO2COCO/dataset/YOLOV5_COCO_format/val2017/'+i.split('.')[0]+'_val.jpg')"
      ]
    },
    {
      "cell_type": "markdown",
      "metadata": {
        "id": "YdjTyvZdE3C6"
      },
      "source": [
        "2) 한폴더에 합치기"
      ]
    },
    {
      "cell_type": "code",
      "execution_count": 7,
      "metadata": {
        "id": "yvElo1-YP0Q5"
      },
      "outputs": [],
      "source": [
        "%mv /content/content/YOLO2COCO/dataset/YOLOV5_COCO_format/val2017/* /content/content/YOLO2COCO/dataset/YOLOV5_COCO_format/train2017/"
      ]
    },
    {
      "cell_type": "code",
      "execution_count": 8,
      "metadata": {
        "id": "6t5HicOwE_bv"
      },
      "outputs": [],
      "source": [
        "!rm -r /content/content/YOLO2COCO/dataset/YOLOV5_COCO_format/val2017 "
      ]
    },
    {
      "cell_type": "markdown",
      "metadata": {
        "id": "OI7pU3Fe_6DQ"
      },
      "source": [
        "### DATAFRAME 만들기\n",
        "1) training json file loading"
      ]
    },
    {
      "cell_type": "code",
      "execution_count": 9,
      "metadata": {
        "id": "fpyGGNP18B8o"
      },
      "outputs": [],
      "source": [
        "import json\n",
        "with open('/content/content/YOLO2COCO/dataset/YOLOV5_COCO_format/annotations/instances_train2017.json', 'r') as f:\n",
        "  json_data = json.load(f)"
      ]
    },
    {
      "cell_type": "markdown",
      "source": [
        "json_data['images'] #file_name, height, width -> 12,304개\n",
        "\n",
        "json_data['annotations'] #area, bbox, category_id, segmentation -> 101,140개"
      ],
      "metadata": {
        "id": "3cZtZGmkdXqg"
      }
    },
    {
      "cell_type": "markdown",
      "metadata": {
        "id": "wFCRxoFpAR1a"
      },
      "source": [
        "2) 파일 이름 당 필요한 데이터 한 dictionary에 모으기"
      ]
    },
    {
      "cell_type": "code",
      "execution_count": 10,
      "metadata": {
        "colab": {
          "base_uri": "https://localhost:8080/",
          "height": 49,
          "referenced_widgets": [
            "720346bf05fd4f45891f4398a4e2bfef",
            "155f0c4355da4a0d945403f560e783ff",
            "057b057c0595492086d35bbf722e6f2c",
            "3ba33970ae144aa8a08912f886b39cee",
            "cee506f2037e48739cc37673c47d62c4",
            "1dd594a7b5b64e09872f3d3710b18b9d",
            "512f9c9cabfe4b35aa1bee077443dbef",
            "a6fa82c30d7840f69f6c399013197e6e",
            "1123565709c64945a3a3ee057cadc548",
            "242d76fcd0ad480a9b9cf0a6be38ddd0",
            "9c6d000f3b44495db37e0128adacd795"
          ]
        },
        "id": "3yyYNMzjLxUU",
        "outputId": "1be9d34d-833b-4dac-e9d9-27f40cef9210"
      },
      "outputs": [
        {
          "output_type": "display_data",
          "data": {
            "text/plain": [
              "  0%|          | 0/12304 [00:00<?, ?it/s]"
            ],
            "application/vnd.jupyter.widget-view+json": {
              "version_major": 2,
              "version_minor": 0,
              "model_id": "720346bf05fd4f45891f4398a4e2bfef"
            }
          },
          "metadata": {}
        }
      ],
      "source": [
        "new_dict = {}\n",
        "\n",
        "for i in tqdm(range(len(json_data['images']))):\n",
        "  temp_dict = {\n",
        "      'image_id':[],\n",
        "      'categoryid':[],\n",
        "      'bbox':[]\n",
        "      }\n",
        "  img_name = json_data['images'][i]['file_name']\n",
        "  img_id = json_data['images'][i]['id']\n",
        "  for j in json_data['annotations']:\n",
        "    if j['image_id'] == img_id:\n",
        "      temp_dict['image_id'].append(img_id)\n",
        "      temp_dict['bbox'].append(j['bbox'])\n",
        "      temp_dict['categoryid'].append(j['category_id'])\n",
        "  new_dict[img_name] = temp_dict"
      ]
    },
    {
      "cell_type": "markdown",
      "source": [
        "new_dict\n",
        "\n",
        "![image.png](data:image/png;base64,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)"
      ],
      "metadata": {
        "id": "_VRutX-eeLoV"
      }
    },
    {
      "cell_type": "code",
      "execution_count": 11,
      "metadata": {
        "id": "jv_YQ4SXUxqq"
      },
      "outputs": [],
      "source": [
        "tempdf = pd.DataFrame(new_dict)\n",
        "#행,열 바꾸기\n",
        "tempdf = tempdf.transpose()\n",
        "tempdf = tempdf[['categoryid', 'bbox']]\n",
        "tempdf = tempdf.rename_axis('image_id').reset_index()"
      ]
    },
    {
      "cell_type": "markdown",
      "metadata": {
        "id": "z4Yf48WVAcef"
      },
      "source": [
        "3) bbox 하나씩있는 파일 만들기"
      ]
    },
    {
      "cell_type": "code",
      "execution_count": null,
      "metadata": {
        "colab": {
          "base_uri": "https://localhost:8080/"
        },
        "id": "jaBCewwJlYCR",
        "outputId": "6f57a361-62cf-41f8-cd8d-8556b8f1cca4"
      },
      "outputs": [
        {
          "output_type": "stream",
          "name": "stderr",
          "text": [
            "100%|██████████| 12304/12304 [00:39<00:00, 312.25it/s]\n"
          ]
        }
      ],
      "source": [
        "content_list = []\n",
        "index_list = []\n",
        "columns = ['image_id', 'category', 'xmid', 'ymid', 'w', 'h']\n",
        "num = 0\n",
        "for i in tqdm(range(12304)):\n",
        "    info = tempdf.iloc[i] #행 가져오기\n",
        "    box_len = len(info.categoryid) #bbox개수\n",
        "    for j in range(box_len):\n",
        "        temp_list = []\n",
        "        #print(tempdf.iloc[i]['categoryid'][j]) -> 12\n",
        "        temp_list.append(tempdf.iloc[i]['image_id'].split('.')[0])\n",
        "        temp_list.append(tempdf.iloc[i]['categoryid'][j])\n",
        "        temp_list.append(tempdf.iloc[i]['bbox'][j][0])\n",
        "        temp_list.append(tempdf.iloc[i]['bbox'][j][1])\n",
        "        temp_list.append(tempdf.iloc[i]['bbox'][j][2])\n",
        "        temp_list.append(tempdf.iloc[i]['bbox'][j][3])\n",
        "        #print(temp_list) -> [imgname, category, xmid, ymid, w, h]\n",
        "        #break\n",
        "        content_list.append(temp_list)\n",
        "        index_list.append(num)\n",
        "        num += 1"
      ]
    },
    {
      "cell_type": "code",
      "execution_count": null,
      "metadata": {
        "id": "c-87cHNi1rue"
      },
      "outputs": [],
      "source": [
        "final_df = pd.DataFrame(content_list, index = index_list, columns = columns)"
      ]
    },
    {
      "cell_type": "markdown",
      "source": [
        "![image.png](data:image/png;base64,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)"
      ],
      "metadata": {
        "id": "DS1ihU-Ah-CM"
      }
    },
    {
      "cell_type": "markdown",
      "metadata": {
        "id": "p_WnC5d1AmG-"
      },
      "source": [
        "4) xmin,ymin,xmax,ymax만들기"
      ]
    },
    {
      "cell_type": "code",
      "execution_count": null,
      "metadata": {
        "id": "RG_Nygwa45x3"
      },
      "outputs": [],
      "source": [
        "final_df['xmin'] = final_df['xmid'] - final_df['w'] / 2\n",
        "final_df['ymin'] = final_df['ymid'] - final_df['h'] / 2\n",
        "final_df['xmax'] = final_df['xmid'] + final_df['w'] / 2\n",
        "final_df['ymax'] = final_df['ymid'] + final_df['h'] / 2"
      ]
    },
    {
      "cell_type": "code",
      "execution_count": null,
      "metadata": {
        "id": "rV6VcdaL7WpS"
      },
      "outputs": [],
      "source": [
        "final_df = final_df[['image_id', 'category', 'xmin', 'ymin', 'xmax', 'ymax']]"
      ]
    },
    {
      "cell_type": "code",
      "source": [
        "final_df.category.unique()"
      ],
      "metadata": {
        "colab": {
          "base_uri": "https://localhost:8080/"
        },
        "id": "QtVkdGvQlC0z",
        "outputId": "5409a3dd-06b9-4e02-864d-80e37f228466"
      },
      "execution_count": null,
      "outputs": [
        {
          "output_type": "execute_result",
          "data": {
            "text/plain": [
              "array([12,  1,  4, 10,  9,  5,  8,  7, 11, 14,  3,  6,  2, 13])"
            ]
          },
          "metadata": {},
          "execution_count": 18
        }
      ]
    },
    {
      "cell_type": "markdown",
      "metadata": {
        "id": "8XuQcnYT84Qr"
      },
      "source": [
        "5) 음수값 제거"
      ]
    },
    {
      "cell_type": "code",
      "execution_count": null,
      "metadata": {
        "id": "3xJaG1ou7olM"
      },
      "outputs": [],
      "source": [
        "final_df.loc[final_df['xmin'] < 0, 'xmin'] =  0 #[행 selection, 열 selection]"
      ]
    },
    {
      "cell_type": "code",
      "execution_count": null,
      "metadata": {
        "id": "PoBvPxHF8Rjx"
      },
      "outputs": [],
      "source": [
        "final_df.loc[final_df['ymin'] < 0, 'ymin'] =  0 #[행 selection, 열 selection]"
      ]
    },
    {
      "cell_type": "markdown",
      "metadata": {
        "id": "kKYu-l-9GFv8"
      },
      "source": [
        "6) validation json loading"
      ]
    },
    {
      "cell_type": "code",
      "execution_count": null,
      "metadata": {
        "id": "0HeUxW2dGdSh"
      },
      "outputs": [],
      "source": [
        "with open('/content/content/YOLO2COCO/dataset/YOLOV5_COCO_format/annotations/instances_val2017.json', 'r') as fv:\n",
        "  val_json_data = json.load(fv)"
      ]
    },
    {
      "cell_type": "markdown",
      "source": [
        "val_json_data['images'] #file_name, height, width -> 5,272\n",
        "\n",
        "val_json_data['annotations'] #area, bbox, category_id, segmentation -> 43,244"
      ],
      "metadata": {
        "id": "hJk7mYHGnhYp"
      }
    },
    {
      "cell_type": "code",
      "execution_count": null,
      "metadata": {
        "colab": {
          "base_uri": "https://localhost:8080/"
        },
        "id": "6O2nfmCDGdSj",
        "outputId": "c210a2c9-6f6d-4cb8-edf1-b599448a0e29"
      },
      "outputs": [
        {
          "output_type": "stream",
          "name": "stderr",
          "text": [
            "100%|██████████| 5272/5272 [00:28<00:00, 183.96it/s]\n"
          ]
        }
      ],
      "source": [
        "val_new_dict = {}\n",
        "\n",
        "for i in tqdm(range(len(val_json_data['images']))):\n",
        "  temp_dict = {\n",
        "      'image_id':[],\n",
        "      'categoryid':[],\n",
        "      'bbox':[]\n",
        "      }\n",
        "  img_name = val_json_data['images'][i]['file_name']\n",
        "  img_id = val_json_data['images'][i]['id']\n",
        "  for j in val_json_data['annotations']:\n",
        "    if j['image_id'] == img_id:\n",
        "      temp_dict['image_id'].append(img_id)\n",
        "      temp_dict['bbox'].append(j['bbox'])\n",
        "      temp_dict['categoryid'].append(j['category_id'])\n",
        "  val_new_dict[img_name] = temp_dict"
      ]
    },
    {
      "cell_type": "code",
      "execution_count": null,
      "metadata": {
        "id": "sDJMJzwXGdSj"
      },
      "outputs": [],
      "source": [
        "val_tempdf = pd.DataFrame(val_new_dict)\n",
        "#행,열 바꾸기\n",
        "val_tempdf = val_tempdf.transpose()\n",
        "val_tempdf = val_tempdf[['categoryid', 'bbox']]\n",
        "val_tempdf = val_tempdf.rename_axis('image_id').reset_index()"
      ]
    },
    {
      "cell_type": "code",
      "execution_count": null,
      "metadata": {
        "colab": {
          "base_uri": "https://localhost:8080/"
        },
        "id": "6TWKSriVGdSk",
        "outputId": "7e6e1abc-3c69-4049-df55-8d1c3243fcdb"
      },
      "outputs": [
        {
          "output_type": "stream",
          "name": "stderr",
          "text": [
            "100%|██████████| 5272/5272 [00:16<00:00, 310.77it/s]\n"
          ]
        }
      ],
      "source": [
        "content_list = []\n",
        "index_list = []\n",
        "columns = ['image_id', 'category', 'xmid', 'ymid', 'w', 'h']\n",
        "num = 0\n",
        "for i in tqdm(range(5272)):\n",
        "    info = val_tempdf.iloc[i] #행 가져오기\n",
        "    box_len = len(info.categoryid) #bbox개수\n",
        "    for j in range(box_len):\n",
        "        temp_list = []\n",
        "        #print(tempdf.iloc[i]['categoryid'][j]) -> 12\n",
        "        temp_list.append(val_tempdf.iloc[i]['image_id'].split('.')[0])\n",
        "        temp_list.append(val_tempdf.iloc[i]['categoryid'][j])\n",
        "        temp_list.append(val_tempdf.iloc[i]['bbox'][j][0])\n",
        "        temp_list.append(val_tempdf.iloc[i]['bbox'][j][1])\n",
        "        temp_list.append(val_tempdf.iloc[i]['bbox'][j][2])\n",
        "        temp_list.append(val_tempdf.iloc[i]['bbox'][j][3])\n",
        "        #print(temp_list) -> [imgname, category, xmid, ymid, w, h]\n",
        "        #break\n",
        "        content_list.append(temp_list)\n",
        "        index_list.append(num)\n",
        "        num += 1"
      ]
    },
    {
      "cell_type": "markdown",
      "source": [
        "print(len(content_list), len(index_list)) -> 43,244"
      ],
      "metadata": {
        "id": "GQ9QHMUt4Yq9"
      }
    },
    {
      "cell_type": "code",
      "execution_count": null,
      "metadata": {
        "id": "pgN8n4hDGdSl"
      },
      "outputs": [],
      "source": [
        "val_df = pd.DataFrame(content_list, index = index_list, columns = columns)"
      ]
    },
    {
      "cell_type": "code",
      "execution_count": null,
      "metadata": {
        "id": "aya_63m5GdSl"
      },
      "outputs": [],
      "source": [
        "val_df['xmin'] = val_df['xmid'] - val_df['w'] / 2\n",
        "val_df['ymin'] = val_df['ymid'] - val_df['h'] / 2\n",
        "val_df['xmax'] = val_df['xmid'] + val_df['w'] / 2\n",
        "val_df['ymax'] = val_df['ymid'] + val_df['h'] / 2"
      ]
    },
    {
      "cell_type": "code",
      "execution_count": null,
      "metadata": {
        "id": "FGinaTHNGdSm"
      },
      "outputs": [],
      "source": [
        "val_df = val_df[['image_id', 'category', 'xmin', 'ymin', 'xmax', 'ymax']]"
      ]
    },
    {
      "cell_type": "code",
      "execution_count": null,
      "metadata": {
        "id": "Q5EXYGeCGdSm"
      },
      "outputs": [],
      "source": [
        "#x값에 음수가 있다면 0값으로 처리해라\n",
        "val_df.loc[val_df['xmin'] < 0, 'xmin'] =  0 #[행 selection, 열 selection]"
      ]
    },
    {
      "cell_type": "code",
      "execution_count": null,
      "metadata": {
        "id": "5ZfXaPOVGdSm"
      },
      "outputs": [],
      "source": [
        "#y값에 음수가 있다면 0값으로 처리해라\n",
        "val_df.loc[val_df['ymin'] < 0, 'ymin'] =  0 #[행 selection, 열 selection]"
      ]
    },
    {
      "cell_type": "code",
      "execution_count": null,
      "metadata": {
        "id": "vEAiLPCUGJ6L"
      },
      "outputs": [],
      "source": [
        "val_df['image_id'] = val_df.apply(lambda row: row.image_id + '_val', axis = 1)"
      ]
    },
    {
      "cell_type": "markdown",
      "metadata": {
        "id": "faEGi9ARJ1KH"
      },
      "source": [
        "7) train df + val df"
      ]
    },
    {
      "cell_type": "code",
      "execution_count": null,
      "metadata": {
        "id": "mgheZPG1XL8v"
      },
      "outputs": [],
      "source": [
        "total_df = pd.concat([final_df, val_df], axis=0, ignore_index=True)\n",
        "total_df = total_df[total_df['ymin'] != total_df['ymax']].reset_index()"
      ]
    },
    {
      "cell_type": "code",
      "source": [
        "total_df.drop('index',axis=1)"
      ],
      "metadata": {
        "colab": {
          "base_uri": "https://localhost:8080/",
          "height": 468
        },
        "id": "kUZZ7dVm6lPB",
        "outputId": "12834dd5-cf93-4f84-8d45-1d7d2dab5514"
      },
      "execution_count": null,
      "outputs": [
        {
          "output_type": "execute_result",
          "data": {
            "text/plain": [
              "                image_id  category        xmin        ymin        xmax  \\\n",
              "0           000000000001        12  116.778616   34.730970  186.000000   \n",
              "1           000000000001         1  214.095292   90.290528  298.000000   \n",
              "2           000000000001         4   46.188259  248.680998  300.000000   \n",
              "3           000000000001         4   52.481112  236.388145  300.000000   \n",
              "4           000000000001         1  212.095292   88.290528  296.000000   \n",
              "...                  ...       ...         ...         ...         ...   \n",
              "144373  000000005272_val         4  108.315079   60.905434  169.386347   \n",
              "144374  000000005272_val         1  246.205551  241.430894  328.402101   \n",
              "144375  000000005272_val         1  280.198050  246.141207  346.262566   \n",
              "144376  000000005272_val         4   90.550638   58.166881  168.714179   \n",
              "144377  000000005272_val         1  258.304576  232.886607  337.044261   \n",
              "\n",
              "              ymax  \n",
              "0        62.000000  \n",
              "1       170.000000  \n",
              "2       320.000000  \n",
              "3       314.000000  \n",
              "4       168.000000  \n",
              "...            ...  \n",
              "144373  300.145486  \n",
              "144374  315.481386  \n",
              "144375  315.152760  \n",
              "144376  301.131365  \n",
              "144377  312.633291  \n",
              "\n",
              "[144378 rows x 6 columns]"
            ],
            "text/html": [
              "\n",
              "  <div id=\"df-ba2c618b-4e99-488e-ae36-f7c9aa229ac6\">\n",
              "    <div class=\"colab-df-container\">\n",
              "      <div>\n",
              "<style scoped>\n",
              "    .dataframe tbody tr th:only-of-type {\n",
              "        vertical-align: middle;\n",
              "    }\n",
              "\n",
              "    .dataframe tbody tr th {\n",
              "        vertical-align: top;\n",
              "    }\n",
              "\n",
              "    .dataframe thead th {\n",
              "        text-align: right;\n",
              "    }\n",
              "</style>\n",
              "<table border=\"1\" class=\"dataframe\">\n",
              "  <thead>\n",
              "    <tr style=\"text-align: right;\">\n",
              "      <th></th>\n",
              "      <th>image_id</th>\n",
              "      <th>category</th>\n",
              "      <th>xmin</th>\n",
              "      <th>ymin</th>\n",
              "      <th>xmax</th>\n",
              "      <th>ymax</th>\n",
              "    </tr>\n",
              "  </thead>\n",
              "  <tbody>\n",
              "    <tr>\n",
              "      <th>0</th>\n",
              "      <td>000000000001</td>\n",
              "      <td>12</td>\n",
              "      <td>116.778616</td>\n",
              "      <td>34.730970</td>\n",
              "      <td>186.000000</td>\n",
              "      <td>62.000000</td>\n",
              "    </tr>\n",
              "    <tr>\n",
              "      <th>1</th>\n",
              "      <td>000000000001</td>\n",
              "      <td>1</td>\n",
              "      <td>214.095292</td>\n",
              "      <td>90.290528</td>\n",
              "      <td>298.000000</td>\n",
              "      <td>170.000000</td>\n",
              "    </tr>\n",
              "    <tr>\n",
              "      <th>2</th>\n",
              "      <td>000000000001</td>\n",
              "      <td>4</td>\n",
              "      <td>46.188259</td>\n",
              "      <td>248.680998</td>\n",
              "      <td>300.000000</td>\n",
              "      <td>320.000000</td>\n",
              "    </tr>\n",
              "    <tr>\n",
              "      <th>3</th>\n",
              "      <td>000000000001</td>\n",
              "      <td>4</td>\n",
              "      <td>52.481112</td>\n",
              "      <td>236.388145</td>\n",
              "      <td>300.000000</td>\n",
              "      <td>314.000000</td>\n",
              "    </tr>\n",
              "    <tr>\n",
              "      <th>4</th>\n",
              "      <td>000000000001</td>\n",
              "      <td>1</td>\n",
              "      <td>212.095292</td>\n",
              "      <td>88.290528</td>\n",
              "      <td>296.000000</td>\n",
              "      <td>168.000000</td>\n",
              "    </tr>\n",
              "    <tr>\n",
              "      <th>...</th>\n",
              "      <td>...</td>\n",
              "      <td>...</td>\n",
              "      <td>...</td>\n",
              "      <td>...</td>\n",
              "      <td>...</td>\n",
              "      <td>...</td>\n",
              "    </tr>\n",
              "    <tr>\n",
              "      <th>144373</th>\n",
              "      <td>000000005272_val</td>\n",
              "      <td>4</td>\n",
              "      <td>108.315079</td>\n",
              "      <td>60.905434</td>\n",
              "      <td>169.386347</td>\n",
              "      <td>300.145486</td>\n",
              "    </tr>\n",
              "    <tr>\n",
              "      <th>144374</th>\n",
              "      <td>000000005272_val</td>\n",
              "      <td>1</td>\n",
              "      <td>246.205551</td>\n",
              "      <td>241.430894</td>\n",
              "      <td>328.402101</td>\n",
              "      <td>315.481386</td>\n",
              "    </tr>\n",
              "    <tr>\n",
              "      <th>144375</th>\n",
              "      <td>000000005272_val</td>\n",
              "      <td>1</td>\n",
              "      <td>280.198050</td>\n",
              "      <td>246.141207</td>\n",
              "      <td>346.262566</td>\n",
              "      <td>315.152760</td>\n",
              "    </tr>\n",
              "    <tr>\n",
              "      <th>144376</th>\n",
              "      <td>000000005272_val</td>\n",
              "      <td>4</td>\n",
              "      <td>90.550638</td>\n",
              "      <td>58.166881</td>\n",
              "      <td>168.714179</td>\n",
              "      <td>301.131365</td>\n",
              "    </tr>\n",
              "    <tr>\n",
              "      <th>144377</th>\n",
              "      <td>000000005272_val</td>\n",
              "      <td>1</td>\n",
              "      <td>258.304576</td>\n",
              "      <td>232.886607</td>\n",
              "      <td>337.044261</td>\n",
              "      <td>312.633291</td>\n",
              "    </tr>\n",
              "  </tbody>\n",
              "</table>\n",
              "<p>144378 rows × 6 columns</p>\n",
              "</div>\n",
              "      <button class=\"colab-df-convert\" onclick=\"convertToInteractive('df-ba2c618b-4e99-488e-ae36-f7c9aa229ac6')\"\n",
              "              title=\"Convert this dataframe to an interactive table.\"\n",
              "              style=\"display:none;\">\n",
              "        \n",
              "  <svg xmlns=\"http://www.w3.org/2000/svg\" height=\"24px\"viewBox=\"0 0 24 24\"\n",
              "       width=\"24px\">\n",
              "    <path d=\"M0 0h24v24H0V0z\" fill=\"none\"/>\n",
              "    <path d=\"M18.56 5.44l.94 2.06.94-2.06 2.06-.94-2.06-.94-.94-2.06-.94 2.06-2.06.94zm-11 1L8.5 8.5l.94-2.06 2.06-.94-2.06-.94L8.5 2.5l-.94 2.06-2.06.94zm10 10l.94 2.06.94-2.06 2.06-.94-2.06-.94-.94-2.06-.94 2.06-2.06.94z\"/><path d=\"M17.41 7.96l-1.37-1.37c-.4-.4-.92-.59-1.43-.59-.52 0-1.04.2-1.43.59L10.3 9.45l-7.72 7.72c-.78.78-.78 2.05 0 2.83L4 21.41c.39.39.9.59 1.41.59.51 0 1.02-.2 1.41-.59l7.78-7.78 2.81-2.81c.8-.78.8-2.07 0-2.86zM5.41 20L4 18.59l7.72-7.72 1.47 1.35L5.41 20z\"/>\n",
              "  </svg>\n",
              "      </button>\n",
              "      \n",
              "  <style>\n",
              "    .colab-df-container {\n",
              "      display:flex;\n",
              "      flex-wrap:wrap;\n",
              "      gap: 12px;\n",
              "    }\n",
              "\n",
              "    .colab-df-convert {\n",
              "      background-color: #E8F0FE;\n",
              "      border: none;\n",
              "      border-radius: 50%;\n",
              "      cursor: pointer;\n",
              "      display: none;\n",
              "      fill: #1967D2;\n",
              "      height: 32px;\n",
              "      padding: 0 0 0 0;\n",
              "      width: 32px;\n",
              "    }\n",
              "\n",
              "    .colab-df-convert:hover {\n",
              "      background-color: #E2EBFA;\n",
              "      box-shadow: 0px 1px 2px rgba(60, 64, 67, 0.3), 0px 1px 3px 1px rgba(60, 64, 67, 0.15);\n",
              "      fill: #174EA6;\n",
              "    }\n",
              "\n",
              "    [theme=dark] .colab-df-convert {\n",
              "      background-color: #3B4455;\n",
              "      fill: #D2E3FC;\n",
              "    }\n",
              "\n",
              "    [theme=dark] .colab-df-convert:hover {\n",
              "      background-color: #434B5C;\n",
              "      box-shadow: 0px 1px 3px 1px rgba(0, 0, 0, 0.15);\n",
              "      filter: drop-shadow(0px 1px 2px rgba(0, 0, 0, 0.3));\n",
              "      fill: #FFFFFF;\n",
              "    }\n",
              "  </style>\n",
              "\n",
              "      <script>\n",
              "        const buttonEl =\n",
              "          document.querySelector('#df-ba2c618b-4e99-488e-ae36-f7c9aa229ac6 button.colab-df-convert');\n",
              "        buttonEl.style.display =\n",
              "          google.colab.kernel.accessAllowed ? 'block' : 'none';\n",
              "\n",
              "        async function convertToInteractive(key) {\n",
              "          const element = document.querySelector('#df-ba2c618b-4e99-488e-ae36-f7c9aa229ac6');\n",
              "          const dataTable =\n",
              "            await google.colab.kernel.invokeFunction('convertToInteractive',\n",
              "                                                     [key], {});\n",
              "          if (!dataTable) return;\n",
              "\n",
              "          const docLinkHtml = 'Like what you see? Visit the ' +\n",
              "            '<a target=\"_blank\" href=https://colab.research.google.com/notebooks/data_table.ipynb>data table notebook</a>'\n",
              "            + ' to learn more about interactive tables.';\n",
              "          element.innerHTML = '';\n",
              "          dataTable['output_type'] = 'display_data';\n",
              "          await google.colab.output.renderOutput(dataTable, element);\n",
              "          const docLink = document.createElement('div');\n",
              "          docLink.innerHTML = docLinkHtml;\n",
              "          element.appendChild(docLink);\n",
              "        }\n",
              "      </script>\n",
              "    </div>\n",
              "  </div>\n",
              "  "
            ]
          },
          "metadata": {},
          "execution_count": 40
        }
      ]
    }
  ]
}